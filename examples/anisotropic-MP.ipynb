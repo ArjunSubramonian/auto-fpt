{
 "cells": [
  {
   "cell_type": "markdown",
   "metadata": {},
   "source": [
    "**Synopsis:** Script to test computation of fixed-point equations using FPT for\n",
    "anisotropic Marchenko-Pastur (MP) law.\n",
    "\n",
    "**Author:** Elvis Dohmatob, Arjun Subramonian"
   ]
  },
  {
   "cell_type": "code",
   "execution_count": 8,
   "metadata": {},
   "outputs": [],
   "source": [
    "from sympy import Symbol, MatrixSymbol, Identity\n",
    "import numpy as np\n",
    "import pickle as pkl\n",
    "import sys; sys.path.append(\"..\"); import fpt"
   ]
  },
  {
   "cell_type": "markdown",
   "metadata": {},
   "source": [
    "Form the design matrix."
   ]
  },
  {
   "cell_type": "code",
   "execution_count": 2,
   "metadata": {},
   "outputs": [],
   "source": [
    "n = Symbol(\"n\", integer=True, positive=True)\n",
    "d = Symbol(\"d\", integer=True, positive=True)\n",
    "Z = MatrixSymbol(\"Z\", n, d)\n",
    "Sigma_sqrt = MatrixSymbol(\"\\Sigma_{sqrt}\", d , d)  # Covariance matrix\n",
    "phi = Symbol(r\"\\phi\", positive=True)"
   ]
  },
  {
   "cell_type": "code",
   "execution_count": 3,
   "metadata": {},
   "outputs": [],
   "source": [
    "with open('pencils/anisotropic-MP-pencil.pkl', 'rb') as f:\n",
    "    Q, (u, v) = pkl.load(f)"
   ]
  },
  {
   "cell_type": "code",
   "execution_count": 4,
   "metadata": {},
   "outputs": [
    {
     "data": {
      "text/latex": [
       "$\\displaystyle \\left[\\begin{matrix}\\mathbb{I} & - Z^{T} & 0 & 0\\\\0 & \\mathbb{I} & - Z & 0\\\\0 & 0 & \\mathbb{I} & - \\Sigma_{sqrt}\\\\\\Sigma_{sqrt}^{T} & 0 & 0 & \\mathbb{I}\\end{matrix}\\right]$"
      ],
      "text/plain": [
       "Matrix([\n",
       "[              I, -Z.T,  0,              0],\n",
       "[              0,    I, -Z,              0],\n",
       "[              0,    0,  I, -\\Sigma_{sqrt}],\n",
       "[\\Sigma_{sqrt}.T,    0,  0,              I]])"
      ]
     },
     "metadata": {},
     "output_type": "display_data"
    },
    {
     "name": "stdout",
     "output_type": "stream",
     "text": [
      "u: [0, 0, 0, 1]\n",
      "v: [0, 0, 0, 1]\n"
     ]
    }
   ],
   "source": [
    "display(Q)\n",
    "print('u:', u)\n",
    "print('v:', v)"
   ]
  },
  {
   "cell_type": "markdown",
   "metadata": {},
   "source": [
    "Get the index of the one-hot entry in u, v."
   ]
  },
  {
   "cell_type": "code",
   "execution_count": 5,
   "metadata": {},
   "outputs": [],
   "source": [
    "row_idx, col_idx = np.argmax(u), np.argmax(v)"
   ]
  },
  {
   "cell_type": "markdown",
   "metadata": {},
   "source": [
    "Get free probability equations defining the limiting value of the<br>\n",
    "trace of the resolvent. "
   ]
  },
  {
   "cell_type": "code",
   "execution_count": 6,
   "metadata": {},
   "outputs": [
    {
     "name": "stdout",
     "output_type": "stream",
     "text": [
      "\n",
      "Preparing matrix-to-scalar identification...\n",
      "\n",
      "Splitting the input pencil...\n",
      "\n",
      "Scalarizing matrices...\n",
      "\n",
      "Forming symmetrization of block matrices...\n",
      "\n",
      "Identifying indices of entries which must be equal in G...\n",
      "\n",
      "Inferring relevant mask...\n",
      "\n",
      "Preparing G matrix...\n",
      "\n",
      "Computing R-transform R = R(G) matrix...\n",
      "\n",
      "Computing F - R(G) matrix...\n",
      "\n",
      "Computing inverse...\n",
      "\n",
      "Computing fixed-point equations...\n",
      "\n",
      "Matricizing equations...\n"
     ]
    }
   ],
   "source": [
    "eqns = fpt.calc(Q, random_matrices=[\"Z\"], row_idx=row_idx, col_idx=col_idx, normalize=\"full\",\n",
    "                subs={d: n * phi}, display=display, verbose=0)"
   ]
  },
  {
   "cell_type": "code",
   "execution_count": 7,
   "metadata": {},
   "outputs": [
    {
     "data": {
      "text/latex": [
       "$\\displaystyle {G}_{3,3} = \\bar{tr}{\\left(\\lambda \\left(\\lambda \\mathbb{I} + \\Sigma {G}_{1,1}\\right)^{-1} \\right)}$"
      ],
      "text/plain": [
       "Eq(G[3, 3], trbar(lambda*(lambda*I + \\Sigma*G[1, 1])**(-1)))"
      ]
     },
     "metadata": {},
     "output_type": "display_data"
    },
    {
     "data": {
      "text/latex": [
       "$\\displaystyle {G}_{2,0} = \\bar{tr}{\\left(- \\lambda \\Sigma \\left(\\lambda \\mathbb{I} + \\Sigma {G}_{1,1}\\right)^{-1} \\right)}$"
      ],
      "text/plain": [
       "Eq(G[2, 0], trbar((-1)*lambda*\\Sigma*(lambda*I + \\Sigma*G[1, 1])**(-1)))"
      ]
     },
     "metadata": {},
     "output_type": "display_data"
    },
    {
     "data": {
      "text/latex": [
       "$\\displaystyle {G}_{1,1} = - \\frac{\\lambda}{\\phi {G}_{2,0} - \\lambda}$"
      ],
      "text/plain": [
       "Eq(G[1, 1], -lambda/(\\phi*G[2, 0] - lambda))"
      ]
     },
     "metadata": {},
     "output_type": "display_data"
    }
   ],
   "source": [
    "# Some cleanup\n",
    "Sigma = MatrixSymbol(\"\\Sigma\", d , d)\n",
    "eqns = [eqn.subs({Sigma_sqrt ** 2: Sigma}) for eqn in eqns]\n",
    "for eqn in eqns:\n",
    "    display(eqn)"
   ]
  },
  {
   "cell_type": "code",
   "execution_count": null,
   "metadata": {},
   "outputs": [],
   "source": []
  }
 ],
 "metadata": {
  "kernelspec": {
   "display_name": "Python 3 (ipykernel)",
   "language": "python",
   "name": "python3"
  },
  "language_info": {
   "codemirror_mode": {
    "name": "ipython",
    "version": 3
   },
   "file_extension": ".py",
   "mimetype": "text/x-python",
   "name": "python",
   "nbconvert_exporter": "python",
   "pygments_lexer": "ipython3",
   "version": "3.11.5"
  }
 },
 "nbformat": 4,
 "nbformat_minor": 2
}
